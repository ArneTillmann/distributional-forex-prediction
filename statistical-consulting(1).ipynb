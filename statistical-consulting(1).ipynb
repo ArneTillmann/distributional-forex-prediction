{
 "cells": [
  {
   "cell_type": "code",
   "execution_count": null,
   "id": "7e48398c",
   "metadata": {
    "_cell_guid": "b1076dfc-b9ad-4769-8c92-a6c4dae69d19",
    "_uuid": "8f2839f25d086af736a60e9eeb907d3b93b6e0e5",
    "execution": {
     "iopub.execute_input": "2024-05-16T11:42:29.665716Z",
     "iopub.status.busy": "2024-05-16T11:42:29.665219Z",
     "iopub.status.idle": "2024-05-16T11:42:30.855651Z",
     "shell.execute_reply": "2024-05-16T11:42:30.854356Z"
    },
    "papermill": {
     "duration": 1.201491,
     "end_time": "2024-05-16T11:42:30.859344",
     "exception": false,
     "start_time": "2024-05-16T11:42:29.657853",
     "status": "completed"
    },
    "tags": []
   },
   "outputs": [
    {
     "name": "stdout",
     "output_type": "stream",
     "text": [
      "/kaggle/input/bb-rates/BB_Rates_15min_from_10-2023.xlsx\n"
     ]
    }
   ],
   "source": [
    "# This Python 3 environment comes with many helpful analytics libraries installed\n",
    "# It is defined by the kaggle/python Docker image: https://github.com/kaggle/docker-python\n",
    "# For example, here's several helpful packages to load\n",
    "\n",
    "import numpy as np # linear algebra\n",
    "import pandas as pd # data processing, CSV file I/O (e.g. pd.read_csv)\n",
    "\n",
    "# Input data files are available in the read-only \"../input/\" directory\n",
    "# For example, running this (by clicking run or pressing Shift+Enter) will list all files under the input directory\n",
    "\n",
    "import os\n",
    "for dirname, _, filenames in os.walk('/kaggle/input'):\n",
    "    for filename in filenames:\n",
    "        print(os.path.join(dirname, filename))\n",
    "\n",
    "# You can write up to 20GB to the current directory (/kaggle/working/) that gets preserved as output when you create a version using \"Save & Run All\" \n",
    "# You can also write temporary files to /kaggle/temp/, but they won't be saved outside of the current session"
   ]
  },
  {
   "cell_type": "markdown",
   "id": "1e400e3d",
   "metadata": {
    "execution": {
     "iopub.execute_input": "2024-05-16T09:43:03.773813Z",
     "iopub.status.busy": "2024-05-16T09:43:03.773276Z",
     "iopub.status.idle": "2024-05-16T09:43:03.781133Z",
     "shell.execute_reply": "2024-05-16T09:43:03.779586Z",
     "shell.execute_reply.started": "2024-05-16T09:43:03.773781Z"
    },
    "papermill": {
     "duration": 0.004597,
     "end_time": "2024-05-16T11:42:30.869384",
     "exception": false,
     "start_time": "2024-05-16T11:42:30.864787",
     "status": "completed"
    },
    "tags": []
   },
   "source": [
    "# Meeting 03.05.2024 Christoph-Nils-Arne\n",
    "Varianz vorhersagen ist der Kern\n",
    "\n",
    "einfaches Regressionsmodell \n",
    "\n",
    "GARCH\n",
    "Nils LSTM\n",
    "\n",
    "Kaggle aufsetzen \n",
    "Copilot\n",
    "\n",
    "### Packages:\n",
    "- AEON \n",
    "- SK Time \n",
    "- DARts \n",
    "\n",
    "optimal stopping \n",
    "\n",
    "LIteratur:\n",
    "- https://rdcu.be/dGI38"
   ]
  },
  {
   "cell_type": "markdown",
   "id": "fc867b55",
   "metadata": {
    "papermill": {
     "duration": 0.004308,
     "end_time": "2024-05-16T11:42:30.878497",
     "exception": false,
     "start_time": "2024-05-16T11:42:30.874189",
     "status": "completed"
    },
    "tags": []
   },
   "source": [
    "# Nils - Arne 16.05.24\n",
    "- extract USD - EURO pair from the dataset\n",
    "- LinearRegression (ARne)\n",
    "- GARCH(Nils)\n",
    "\n"
   ]
  },
  {
   "cell_type": "code",
   "execution_count": 2,
   "id": "487ee200",
   "metadata": {
    "execution": {
     "iopub.execute_input": "2024-05-16T11:42:30.891479Z",
     "iopub.status.busy": "2024-05-16T11:42:30.890393Z",
     "iopub.status.idle": "2024-05-16T11:42:34.136938Z",
     "shell.execute_reply": "2024-05-16T11:42:34.135726Z"
    },
    "papermill": {
     "duration": 3.256417,
     "end_time": "2024-05-16T11:42:34.140237",
     "exception": false,
     "start_time": "2024-05-16T11:42:30.883820",
     "status": "completed"
    },
    "tags": []
   },
   "outputs": [],
   "source": [
    "import pandas as pd\n",
    "file_path = '/kaggle/input/bb-rates/BB_Rates_15min_from_10-2023.xlsx'\n",
    "data = pd.read_excel(file_path)\n"
   ]
  },
  {
   "cell_type": "code",
   "execution_count": 3,
   "id": "c4e6a122",
   "metadata": {
    "execution": {
     "iopub.execute_input": "2024-05-16T11:42:34.152325Z",
     "iopub.status.busy": "2024-05-16T11:42:34.151512Z",
     "iopub.status.idle": "2024-05-16T11:42:34.175479Z",
     "shell.execute_reply": "2024-05-16T11:42:34.173918Z"
    },
    "papermill": {
     "duration": 0.033338,
     "end_time": "2024-05-16T11:42:34.178478",
     "exception": false,
     "start_time": "2024-05-16T11:42:34.145140",
     "status": "completed"
    },
    "tags": []
   },
   "outputs": [
    {
     "name": "stdout",
     "output_type": "stream",
     "text": [
      "                 Dates   Close\n",
      "3  2023-10-03 23:00:00  1.0469\n",
      "4  2023-10-03 23:15:00  1.0466\n",
      "5  2023-10-03 23:30:00  1.0465\n",
      "6  2023-10-03 23:45:00  1.0465\n",
      "7  2023-10-04 00:00:00  1.0468\n"
     ]
    }
   ],
   "source": [
    "start_index = 3\n",
    "EURUSD = data.iloc[start_index:, :2]\n",
    "\n",
    "# Rename the columns\n",
    "EURUSD.columns = ['Dates', 'Close']\n",
    "\n",
    "# Display the first few rows of the new dataset to verify\n",
    "print(EURUSD.head())"
   ]
  },
  {
   "cell_type": "code",
   "execution_count": 4,
   "id": "715de2f1",
   "metadata": {
    "execution": {
     "iopub.execute_input": "2024-05-16T11:42:34.190386Z",
     "iopub.status.busy": "2024-05-16T11:42:34.189949Z",
     "iopub.status.idle": "2024-05-16T11:42:34.244842Z",
     "shell.execute_reply": "2024-05-16T11:42:34.242871Z"
    },
    "papermill": {
     "duration": 0.06467,
     "end_time": "2024-05-16T11:42:34.248187",
     "exception": false,
     "start_time": "2024-05-16T11:42:34.183517",
     "status": "completed"
    },
    "tags": []
   },
   "outputs": [
    {
     "name": "stdout",
     "output_type": "stream",
     "text": [
      "                Dates   Close  Block  TimeFrame\n",
      "4 2023-10-03 23:15:00  1.0466      2          1\n",
      "5 2023-10-03 23:30:00  1.0465      2          2\n",
      "6 2023-10-03 23:45:00  1.0465      2          3\n",
      "7 2023-10-04 00:00:00  1.0468      2          4\n",
      "8 2023-10-04 00:15:00  1.0467      2          5\n"
     ]
    },
    {
     "name": "stderr",
     "output_type": "stream",
     "text": [
      "/tmp/ipykernel_18/3678701610.py:22: SettingWithCopyWarning: \n",
      "A value is trying to be set on a copy of a slice from a DataFrame.\n",
      "Try using .loc[row_indexer,col_indexer] = value instead\n",
      "\n",
      "See the caveats in the documentation: https://pandas.pydata.org/pandas-docs/stable/user_guide/indexing.html#returning-a-view-versus-a-copy\n",
      "  EURUSD_filtered['TimeFrame'] = EURUSD_filtered.groupby('Block').cumcount() + 1\n"
     ]
    }
   ],
   "source": [
    "# Convert the 'Dates' column to datetime format\n",
    "EURUSD['Dates'] = pd.to_datetime(EURUSD['Dates'])\n",
    "\n",
    "# Calculate the difference between consecutive dates\n",
    "EURUSD['TimeDiff'] = EURUSD['Dates'].diff()\n",
    "\n",
    "# Define the 15-minute time interval\n",
    "time_interval = pd.Timedelta(minutes=15)\n",
    "\n",
    "# Identify the sections with consecutive 15-minute intervals\n",
    "EURUSD['IsConsecutive'] = EURUSD['TimeDiff'] == time_interval\n",
    "\n",
    "# Add a column to identify the observation blocks\n",
    "EURUSD['Block'] = (EURUSD['IsConsecutive'] != EURUSD['IsConsecutive'].shift()).cumsum()\n",
    "\n",
    "# Filter out sections with fewer than 2 days of consecutive 15-minute observations\n",
    "min_consecutive_minutes = 2 * 24 * 60  # 2 days in minutes\n",
    "valid_blocks = EURUSD.groupby('Block').filter(lambda x: len(x) >= min_consecutive_minutes / 15).Block.unique()\n",
    "EURUSD_filtered = EURUSD[EURUSD['Block'].isin(valid_blocks)]\n",
    "\n",
    "# Add the observation timeframe column\n",
    "EURUSD_filtered['TimeFrame'] = EURUSD_filtered.groupby('Block').cumcount() + 1\n",
    "\n",
    "# Drop the 'TimeDiff' and 'IsConsecutive' columns as they are no longer needed\n",
    "EURUSD_filtered = EURUSD_filtered.drop(columns=['TimeDiff', 'IsConsecutive'])\n",
    "\n",
    "# Display the first few rows of the filtered dataset with the new 'Block' and 'TimeFrame' columns\n",
    "print(EURUSD_filtered.head())"
   ]
  },
  {
   "cell_type": "code",
   "execution_count": 5,
   "id": "5b5a005d",
   "metadata": {
    "execution": {
     "iopub.execute_input": "2024-05-16T11:42:34.259962Z",
     "iopub.status.busy": "2024-05-16T11:42:34.259388Z",
     "iopub.status.idle": "2024-05-16T11:42:34.265784Z",
     "shell.execute_reply": "2024-05-16T11:42:34.264818Z"
    },
    "papermill": {
     "duration": 0.015563,
     "end_time": "2024-05-16T11:42:34.268641",
     "exception": false,
     "start_time": "2024-05-16T11:42:34.253078",
     "status": "completed"
    },
    "tags": []
   },
   "outputs": [],
   "source": [
    "# Create a mapping from original block numbers to sequential block numbers\n",
    "block_mapping = {old_block: new_block for new_block, old_block in enumerate(EURUSD_filtered['Block'].unique(), 1)}\n"
   ]
  },
  {
   "cell_type": "code",
   "execution_count": 6,
   "id": "e0efc449",
   "metadata": {
    "execution": {
     "iopub.execute_input": "2024-05-16T11:42:34.281673Z",
     "iopub.status.busy": "2024-05-16T11:42:34.280916Z",
     "iopub.status.idle": "2024-05-16T11:42:34.287600Z",
     "shell.execute_reply": "2024-05-16T11:42:34.286289Z"
    },
    "papermill": {
     "duration": 0.016582,
     "end_time": "2024-05-16T11:42:34.290429",
     "exception": false,
     "start_time": "2024-05-16T11:42:34.273847",
     "status": "completed"
    },
    "tags": []
   },
   "outputs": [],
   "source": [
    "# Apply the mapping to the Block column\n",
    "EURUSD_filtered['Block'] = EURUSD_filtered['Block'].map(block_mapping)\n"
   ]
  },
  {
   "cell_type": "code",
   "execution_count": 7,
   "id": "2a7bd685",
   "metadata": {
    "execution": {
     "iopub.execute_input": "2024-05-16T11:42:34.303660Z",
     "iopub.status.busy": "2024-05-16T11:42:34.303192Z",
     "iopub.status.idle": "2024-05-16T11:42:34.322917Z",
     "shell.execute_reply": "2024-05-16T11:42:34.321673Z"
    },
    "papermill": {
     "duration": 0.029586,
     "end_time": "2024-05-16T11:42:34.325456",
     "exception": false,
     "start_time": "2024-05-16T11:42:34.295870",
     "status": "completed"
    },
    "tags": []
   },
   "outputs": [
    {
     "data": {
      "text/html": [
       "<div>\n",
       "<style scoped>\n",
       "    .dataframe tbody tr th:only-of-type {\n",
       "        vertical-align: middle;\n",
       "    }\n",
       "\n",
       "    .dataframe tbody tr th {\n",
       "        vertical-align: top;\n",
       "    }\n",
       "\n",
       "    .dataframe thead th {\n",
       "        text-align: right;\n",
       "    }\n",
       "</style>\n",
       "<table border=\"1\" class=\"dataframe\">\n",
       "  <thead>\n",
       "    <tr style=\"text-align: right;\">\n",
       "      <th></th>\n",
       "      <th>Dates</th>\n",
       "      <th>Close</th>\n",
       "      <th>Block</th>\n",
       "      <th>TimeFrame</th>\n",
       "    </tr>\n",
       "  </thead>\n",
       "  <tbody>\n",
       "    <tr>\n",
       "      <th>4</th>\n",
       "      <td>2023-10-03 23:15:00</td>\n",
       "      <td>1.0466</td>\n",
       "      <td>1</td>\n",
       "      <td>1</td>\n",
       "    </tr>\n",
       "    <tr>\n",
       "      <th>5</th>\n",
       "      <td>2023-10-03 23:30:00</td>\n",
       "      <td>1.0465</td>\n",
       "      <td>1</td>\n",
       "      <td>2</td>\n",
       "    </tr>\n",
       "    <tr>\n",
       "      <th>6</th>\n",
       "      <td>2023-10-03 23:45:00</td>\n",
       "      <td>1.0465</td>\n",
       "      <td>1</td>\n",
       "      <td>3</td>\n",
       "    </tr>\n",
       "    <tr>\n",
       "      <th>7</th>\n",
       "      <td>2023-10-04 00:00:00</td>\n",
       "      <td>1.0468</td>\n",
       "      <td>1</td>\n",
       "      <td>4</td>\n",
       "    </tr>\n",
       "    <tr>\n",
       "      <th>8</th>\n",
       "      <td>2023-10-04 00:15:00</td>\n",
       "      <td>1.0467</td>\n",
       "      <td>1</td>\n",
       "      <td>5</td>\n",
       "    </tr>\n",
       "    <tr>\n",
       "      <th>...</th>\n",
       "      <td>...</td>\n",
       "      <td>...</td>\n",
       "      <td>...</td>\n",
       "      <td>...</td>\n",
       "    </tr>\n",
       "    <tr>\n",
       "      <th>13539</th>\n",
       "      <td>2024-04-17 09:30:00</td>\n",
       "      <td>1.0632</td>\n",
       "      <td>29</td>\n",
       "      <td>242</td>\n",
       "    </tr>\n",
       "    <tr>\n",
       "      <th>13540</th>\n",
       "      <td>2024-04-17 09:45:00</td>\n",
       "      <td>1.0625</td>\n",
       "      <td>29</td>\n",
       "      <td>243</td>\n",
       "    </tr>\n",
       "    <tr>\n",
       "      <th>13541</th>\n",
       "      <td>2024-04-17 10:00:00</td>\n",
       "      <td>1.063</td>\n",
       "      <td>29</td>\n",
       "      <td>244</td>\n",
       "    </tr>\n",
       "    <tr>\n",
       "      <th>13542</th>\n",
       "      <td>2024-04-17 10:15:00</td>\n",
       "      <td>1.0642</td>\n",
       "      <td>29</td>\n",
       "      <td>245</td>\n",
       "    </tr>\n",
       "    <tr>\n",
       "      <th>13543</th>\n",
       "      <td>2024-04-17 10:30:00</td>\n",
       "      <td>1.0647</td>\n",
       "      <td>29</td>\n",
       "      <td>246</td>\n",
       "    </tr>\n",
       "  </tbody>\n",
       "</table>\n",
       "<p>13433 rows × 4 columns</p>\n",
       "</div>"
      ],
      "text/plain": [
       "                    Dates   Close  Block  TimeFrame\n",
       "4     2023-10-03 23:15:00  1.0466      1          1\n",
       "5     2023-10-03 23:30:00  1.0465      1          2\n",
       "6     2023-10-03 23:45:00  1.0465      1          3\n",
       "7     2023-10-04 00:00:00  1.0468      1          4\n",
       "8     2023-10-04 00:15:00  1.0467      1          5\n",
       "...                   ...     ...    ...        ...\n",
       "13539 2024-04-17 09:30:00  1.0632     29        242\n",
       "13540 2024-04-17 09:45:00  1.0625     29        243\n",
       "13541 2024-04-17 10:00:00   1.063     29        244\n",
       "13542 2024-04-17 10:15:00  1.0642     29        245\n",
       "13543 2024-04-17 10:30:00  1.0647     29        246\n",
       "\n",
       "[13433 rows x 4 columns]"
      ]
     },
     "execution_count": 7,
     "metadata": {},
     "output_type": "execute_result"
    }
   ],
   "source": [
    "EURUSD_filtered"
   ]
  },
  {
   "cell_type": "code",
   "execution_count": null,
   "id": "7b057629",
   "metadata": {
    "papermill": {
     "duration": 0.005021,
     "end_time": "2024-05-16T11:42:34.336211",
     "exception": false,
     "start_time": "2024-05-16T11:42:34.331190",
     "status": "completed"
    },
    "tags": []
   },
   "outputs": [],
   "source": []
  }
 ],
 "metadata": {
  "kaggle": {
   "accelerator": "none",
   "dataSources": [
    {
     "datasetId": 5019688,
     "sourceId": 8429393,
     "sourceType": "datasetVersion"
    }
   ],
   "dockerImageVersionId": 30698,
   "isGpuEnabled": false,
   "isInternetEnabled": true,
   "language": "python",
   "sourceType": "notebook"
  },
  "kernelspec": {
   "display_name": "Python 3",
   "language": "python",
   "name": "python3"
  },
  "language_info": {
   "codemirror_mode": {
    "name": "ipython",
    "version": 3
   },
   "file_extension": ".py",
   "mimetype": "text/x-python",
   "name": "python",
   "nbconvert_exporter": "python",
   "pygments_lexer": "ipython3",
   "version": "3.11.7"
  },
  "papermill": {
   "default_parameters": {},
   "duration": 9.493247,
   "end_time": "2024-05-16T11:42:34.966068",
   "environment_variables": {},
   "exception": null,
   "input_path": "__notebook__.ipynb",
   "output_path": "__notebook__.ipynb",
   "parameters": {},
   "start_time": "2024-05-16T11:42:25.472821",
   "version": "2.5.0"
  }
 },
 "nbformat": 4,
 "nbformat_minor": 5
}
