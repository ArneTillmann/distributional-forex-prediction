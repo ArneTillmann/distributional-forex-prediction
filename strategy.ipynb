{
 "cells": [
  {
   "cell_type": "code",
   "execution_count": 28,
   "metadata": {},
   "outputs": [],
   "source": [
    "from sklearn.linear_model import LinearRegression\n",
    "import numpy as np\n",
    "from scipy import stats"
   ]
  },
  {
   "cell_type": "code",
   "execution_count": 2,
   "metadata": {},
   "outputs": [
    {
     "name": "stderr",
     "output_type": "stream",
     "text": [
      "<>:1: SyntaxWarning: invalid escape sequence '\\B'\n",
      "C:\\Users\\arnet\\AppData\\Local\\Temp\\ipykernel_9852\\4088575790.py:1: SyntaxWarning: invalid escape sequence '\\B'\n",
      "  file_path = 'data\\BB_Rates_15min_from_10-2023.xlsx'\n"
     ]
    },
    {
     "name": "stdout",
     "output_type": "stream",
     "text": [
      "preperation complete!\n"
     ]
    },
    {
     "name": "stderr",
     "output_type": "stream",
     "text": [
      "C:\\Users\\arnet\\AppData\\Local\\Temp\\ipykernel_9852\\2991408273.py:22: SettingWithCopyWarning: \n",
      "A value is trying to be set on a copy of a slice from a DataFrame.\n",
      "Try using .loc[row_indexer,col_indexer] = value instead\n",
      "\n",
      "See the caveats in the documentation: https://pandas.pydata.org/pandas-docs/stable/user_guide/indexing.html#returning-a-view-versus-a-copy\n",
      "  EURUSD_filtered['TimeFrame'] = EURUSD_filtered.groupby('Block').cumcount() + 1\n"
     ]
    }
   ],
   "source": [
    "%run \"data_preperation.ipynb\""
   ]
  },
  {
   "cell_type": "code",
   "execution_count": 43,
   "metadata": {},
   "outputs": [],
   "source": [
    "def fit_model(block_data):\n",
    "    X = np.arange(96).reshape(-1, 1)  # Independent variable (time steps)\n",
    "    Y = block_data[\"Close\"].values  # Dependent variable (closing prices)\n",
    "\n",
    "    # Create and fit the model\n",
    "    model = LinearRegression()\n",
    "    model.fit(X, Y)\n",
    "    return model"
   ]
  },
  {
   "cell_type": "code",
   "execution_count": 56,
   "metadata": {},
   "outputs": [],
   "source": [
    "def predict_CI(model, confidence_level = 0.8):\n",
    "    predictions = model.predict(X)\n",
    "    # Predict the closing prices for t = 97 with confidence interval\n",
    "    t = 97\n",
    "    prediction = model.predict([[t]])[0]\n",
    "\n",
    "    # Calculate the confidence interval\n",
    "    n = len(X)\n",
    "    t_value = stats.t.ppf((1 + confidence_level) / 2, n - 2)\n",
    "    s = np.sqrt(np.sum((Y - predictions) ** 2) / (n - 2))\n",
    "    s_x = np.sum((X - np.mean(X)) ** 2)\n",
    "    s_y = s ** 2 * (1 + 1 / n + (t - np.mean(X)) ** 2 / s_x)\n",
    "    confidence_interval = t_value * np.sqrt(s_y)\n",
    "    return (prediction - confidence_interval), (prediction + confidence_interval)"
   ]
  },
  {
   "cell_type": "code",
   "execution_count": 118,
   "metadata": {},
   "outputs": [
    {
     "name": "stdout",
     "output_type": "stream",
     "text": [
      "Buy 5253000.0 $ 2023-10-04 23:15:00 1.0506\n",
      "Sell 4989551.6717325235 € 2023-10-05 03:00:00 1.0528\n",
      "Buy 5250006.268996961 $ 2023-10-05 03:15:00 1.0522\n",
      "Sell 4986234.465758345 € 2023-10-05 03:45:00 1.0529\n",
      "Buy 5247014.528317506 $ 2023-10-05 04:15:00 1.0523\n",
      "Sell 4985760.669248866 € 2023-10-05 13:30:00 1.0524\n",
      "Buy 5237541.583045933 $ 2023-10-05 14:30:00 1.0505\n",
      "Sell 4974868.524929648 € 2023-10-05 15:15:00 1.0528\n",
      "Buy 5244506.398980835 $ 2023-10-06 02:45:00 1.0542\n",
      "Sell 4966388.635398518 € 2023-10-06 12:00:00 1.056\n",
      "Buy 5218184.539213223 $ 2023-10-06 14:30:00 1.0507\n",
      "Sell 4945209.002286983 € 2023-10-06 16:30:00 1.0552\n",
      "Buy 5225107.831816426 $ 2023-10-10 06:00:00 1.0566\n",
      "Sell 4934001.729760554 € 2023-10-10 10:15:00 1.059\n",
      "Buy 5219680.42991369 $ 2023-10-10 13:15:00 1.0579\n",
      "Sell 4922369.322815627 € 2023-10-10 16:00:00 1.0604\n",
      "Buy 5218695.9560491275 $ 2023-10-11 04:15:00 1.0602\n",
      "Sell 4909865.421064191 € 2023-10-11 15:45:00 1.0629\n",
      "Buy 5199547.480906977 $ 2023-10-11 19:30:00 1.059\n",
      "Sell 4935498.320747011 € 2023-10-13 01:30:00 1.0535\n",
      "Buy 5191157.133761707 $ 2023-10-13 12:45:00 1.0518\n",
      "Sell 4925196.521595547 € 2023-10-13 14:30:00 1.054\n",
      "Buy 5182291.780022834 $ 2023-10-13 15:15:00 1.0522\n",
      "Sell 4691550.867709549 € 2023-10-13 22:45:00 1.051 end of block\n",
      "Buy 5203987.38785547 $ 2023-10-17 01:15:00 1.0554\n",
      "Sell 4927085.19963593 € 2023-10-17 12:00:00 1.0562\n",
      "Buy 5193640.508936235 $ 2023-10-17 14:30:00 1.0541\n",
      "Sell 4913567.179693694 € 2023-10-17 16:00:00 1.057\n",
      "Buy 5193640.508936235 $ 2023-10-18 02:00:00 1.057\n",
      "Sell 4928020.219125376 € 2023-10-19 02:45:00 1.0539\n",
      "Buy 5214830.995878473 $ 2023-10-19 23:45:00 1.0582\n",
      "Sell 4921973.568549762 € 2023-10-20 13:30:00 1.0595\n",
      "Buy 5251253.600285741 $ 2023-10-24 03:15:00 1.0669\n",
      "Sell 4956818.576822485 € 2023-10-25 00:45:00 1.0594\n",
      "Buy 5237870.19012832 $ 2023-10-25 11:15:00 1.0567\n",
      "Sell 4966218.062129819 € 2023-10-26 14:30:00 1.0547\n",
      "Buy 5242836.40819045 $ 2023-10-27 08:15:00 1.0557\n",
      "Sell 4955890.356546412 € 2023-10-27 15:15:00 1.0579\n",
      "Buy 5259190.846367052 $ 2023-10-30 23:45:00 1.0612\n",
      "Sell 4946567.76370114 € 2023-10-31 09:15:00 1.0632\n",
      "Buy 5250781.68116876 $ 2023-10-31 14:00:00 1.0615\n",
      "Sell 4967157.015579189 € 2023-11-01 07:00:00 1.0571\n",
      "Buy 5230913.053106444 $ 2023-11-01 14:00:00 1.0531\n",
      "Sell 4953516.148775041 € 2023-11-01 15:15:00 1.056\n",
      "Buy 5266578.369377623 $ 2023-11-02 15:15:00 1.0632\n",
      "Sell 4949326.538274244 € 2023-11-03 10:30:00 1.0641\n",
      "Buy 5277466.887761827 $ 2023-11-08 10:00:00 1.0663\n",
      "Sell 4929908.349146965 € 2023-11-08 16:45:00 1.0705\n",
      "Buy 5266128.098558788 $ 2023-11-09 12:15:00 1.0682\n",
      "Sell 4927601.851369691 € 2023-11-10 11:45:00 1.0687\n",
      "Buy 5354332.171698307 $ 2023-11-15 01:30:00 1.0866\n",
      "Sell 4494256.242495415 € 2023-11-17 22:45:00 1.0915 end of block\n",
      "Buy 5266524.067370868 $ 2023-12-08 15:00:00 1.0736\n",
      "Sell 4546292.6953403875 € 2023-12-08 22:45:00 1.0763 end of block\n",
      "Buy 5295883.116338837 $ 2024-01-23 16:30:00 1.0823\n",
      "Sell 4496129.228957214 € 2024-01-26 22:45:00 1.0853 end of block\n",
      "Buy 5283196.028803151 $ 2024-02-02 14:30:00 1.0827\n",
      "Sell 4539571.382754166 € 2024-02-02 22:45:00 1.0788 end of block\n",
      "Buy 5248915.001549145 $ 2024-02-13 14:30:00 1.0718\n",
      "Sell 4873191.905625425 € 2024-02-15 14:30:00 1.0771\n",
      "Buy 5310317.219560025 $ 2024-03-21 09:30:00 1.0897\n",
      "Sell 4546003.785644726 € 2024-03-22 21:45:00 1.0808 end of block\n",
      "Buy 5297051.253152909 $ 2024-04-10 14:30:00 1.0781\n",
      "Sell 4928865.03503574 € 2024-04-11 05:00:00 1.0747\n",
      "Buy 5263042.084411163 $ 2024-04-12 09:00:00 1.0678\n",
      "Sell 4945073.836710666 € 2024-04-12 22:45:00 1.0643\n"
     ]
    }
   ],
   "source": [
    "count = 0\n",
    "count_total = 0\n",
    "trades = 0\n",
    "bank = 5000000\n",
    "for block in EURUSD_filtered[\"Block\"].unique():\n",
    "    block_data = EURUSD_filtered[EURUSD_filtered[\"Block\"] == block]\n",
    "    mutex = 0\n",
    "    for t in range(96, len(block_data)):\n",
    "        count_total += 1\n",
    "        # fit model to the last 96 closing prices of the block\n",
    "        block_data_last_day = block_data.iloc[t-96:t]\n",
    "        model = fit_model(block_data_last_day)\n",
    "        # predict the closing price CI for t = 97\n",
    "        lower_bound, upper_bound = predict_CI(model, confidence_level = 0.1)\n",
    "\n",
    "        mutex, bank = revert_to_the_mean(block_data.iloc[t], model, mutex, bank)\n",
    "\n",
    "        # if lower_bound > block_data.iloc[t][\"Close\"] or upper_bound < block_data.iloc[t][\"Close\"]:\n",
    "            # count += 1\n",
    "            # print(\"Block:\", block, \"t:\", t, \"Lower bound:\", lower_bound, \"Upper bound:\", upper_bound, \"Actual closing price:\", block_data.iloc[t][\"Close\"])\n",
    "    if mutex == 1:\n",
    "        bank = bank * (1/block_data.iloc[t][\"Close\"])\n",
    "        print(\"Sell\", (1/block_data.iloc[t][\"Close\"]) * bank, \"€\", block_data.iloc[t][\"Dates\"], block_data.iloc[t][\"Close\"], \"end of block\")\n",
    "        "
   ]
  },
  {
   "cell_type": "code",
   "execution_count": 108,
   "metadata": {},
   "outputs": [
    {
     "name": "stdout",
     "output_type": "stream",
     "text": [
      "Percentage of closing prices outside the confidence interval: 0.0\n",
      "Bank: 273219928.5554864\n",
      "Trades: 0\n"
     ]
    }
   ],
   "source": [
    "print(\"Percentage of closing prices outside the confidence interval:\", count/count_total)\n",
    "print(\"Bank:\", bank)\n",
    "print(\"Trades:\", trades)"
   ]
  },
  {
   "cell_type": "code",
   "execution_count": 115,
   "metadata": {},
   "outputs": [],
   "source": [
    "def revert_to_the_mean(closing_price, model, mutex, bank):\n",
    "    lower, upper = predict_CI(model, confidence_level = 0.1) # inner CI\n",
    "    lower_lower, upper_upper = predict_CI(model, confidence_level = 0.8) # outer CI\n",
    "    # we distinguish the two cases to take care of possible level shifts \n",
    "    if mutex == 0: # no investment made, potentially buy\n",
    "        if closing_price[\"Close\"] < lower and closing_price[\"Close\"] > lower_lower:\n",
    "            #trades += 1\n",
    "            print(\"Buy\", closing_price[\"Close\"] * bank, \"$\", closing_price[\"Dates\"], closing_price[\"Close\"])\n",
    "            return 1, bank * closing_price[\"Close\"]\n",
    "        else:\n",
    "            return 0, bank \n",
    "    else: # investment made, potentially sell, mutex == 1\n",
    "        if closing_price[\"Close\"] > upper and closing_price[\"Close\"] < upper_upper:\n",
    "            print(\"Sell\", (1/closing_price[\"Close\"]) * bank, \"€\", closing_price[\"Dates\"], closing_price[\"Close\"])\n",
    "            return 0, bank * (1/closing_price[\"Close\"])\n",
    "        else:\n",
    "            return 1, bank\n",
    "        "
   ]
  },
  {
   "cell_type": "code",
   "execution_count": null,
   "metadata": {},
   "outputs": [],
   "source": []
  }
 ],
 "metadata": {
  "kernelspec": {
   "display_name": "consulting",
   "language": "python",
   "name": "python3"
  },
  "language_info": {
   "codemirror_mode": {
    "name": "ipython",
    "version": 3
   },
   "file_extension": ".py",
   "mimetype": "text/x-python",
   "name": "python",
   "nbconvert_exporter": "python",
   "pygments_lexer": "ipython3",
   "version": "3.12.3"
  }
 },
 "nbformat": 4,
 "nbformat_minor": 2
}
