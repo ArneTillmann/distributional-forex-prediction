{
 "cells": [
  {
   "cell_type": "code",
   "execution_count": 16,
   "metadata": {},
   "outputs": [],
   "source": [
    "from sklearn.linear_model import LinearRegression\n",
    "import numpy as np\n",
    "from scipy import stats"
   ]
  },
  {
   "cell_type": "code",
   "execution_count": 17,
   "metadata": {},
   "outputs": [
    {
     "name": "stderr",
     "output_type": "stream",
     "text": [
      "<>:1: SyntaxWarning: invalid escape sequence '\\B'\n",
      "C:\\Users\\arnet\\AppData\\Local\\Temp\\ipykernel_12248\\4088575790.py:1: SyntaxWarning: invalid escape sequence '\\B'\n",
      "  file_path = 'data\\BB_Rates_15min_from_10-2023.xlsx'\n"
     ]
    },
    {
     "name": "stdout",
     "output_type": "stream",
     "text": [
      "preperation complete!\n"
     ]
    },
    {
     "name": "stderr",
     "output_type": "stream",
     "text": [
      "C:\\Users\\arnet\\AppData\\Local\\Temp\\ipykernel_12248\\2991408273.py:22: SettingWithCopyWarning: \n",
      "A value is trying to be set on a copy of a slice from a DataFrame.\n",
      "Try using .loc[row_indexer,col_indexer] = value instead\n",
      "\n",
      "See the caveats in the documentation: https://pandas.pydata.org/pandas-docs/stable/user_guide/indexing.html#returning-a-view-versus-a-copy\n",
      "  EURUSD_filtered['TimeFrame'] = EURUSD_filtered.groupby('Block').cumcount() + 1\n"
     ]
    }
   ],
   "source": [
    "%run \"data_preperation.ipynb\""
   ]
  },
  {
   "cell_type": "code",
   "execution_count": 25,
   "metadata": {},
   "outputs": [],
   "source": [
    "def fit_model(block_data):\n",
    "    X = np.arange(96).reshape(-1, 1)  # Independent variable (time steps)\n",
    "    Y = block_data[\"Close\"].values  # Dependent variable (closing prices)\n",
    "\n",
    "    # Create and fit the model\n",
    "    model = LinearRegression()\n",
    "    model.fit(X, Y)\n",
    "    return model, X, Y"
   ]
  },
  {
   "cell_type": "code",
   "execution_count": 19,
   "metadata": {},
   "outputs": [],
   "source": [
    "def predict_CI(model, X, Y, confidence_level = 0.8):\n",
    "    predictions = model.predict(X)\n",
    "    # Predict the closing prices for t = 97 with confidence interval\n",
    "    t = 97\n",
    "    prediction = model.predict([[t]])[0]\n",
    "\n",
    "    # Calculate the confidence interval\n",
    "    n = len(X)\n",
    "    t_value = stats.t.ppf((1 + confidence_level) / 2, n - 2)\n",
    "    s = np.sqrt(np.sum((Y - predictions) ** 2) / (n - 2))\n",
    "    s_x = np.sum((X - np.mean(X)) ** 2)\n",
    "    s_y = s ** 2 * (1 + 1 / n + (t - np.mean(X)) ** 2 / s_x)\n",
    "    confidence_interval = t_value * np.sqrt(s_y)\n",
    "    return (prediction - confidence_interval), (prediction + confidence_interval)"
   ]
  },
  {
   "cell_type": "code",
   "execution_count": null,
   "metadata": {},
   "outputs": [],
   "source": [
    "def revert_to_the_mean(closing_price, model, X, Y, mutex, bank):\n",
    "    lower, upper = predict_CI(model, X, Y, confidence_level = 0.1) # inner CI\n",
    "    lower_lower, upper_upper = predict_CI(model, X, Y, confidence_level = 0.8) # outer CI\n",
    "    # we distinguish the two cases to take care of possible level shifts \n",
    "    if mutex == 0: # no investment made, potentially buy\n",
    "        if closing_price[\"Close\"] < lower and closing_price[\"Close\"] > lower_lower:\n",
    "            #trades += 1\n",
    "            # print(\"Buy\", closing_price[\"Close\"] * bank, \"$\", closing_price[\"Dates\"], closing_price[\"Close\"])\n",
    "            return 1, bank * closing_price[\"Close\"]\n",
    "        else:\n",
    "            return 0, bank \n",
    "    else: # investment made, potentially sell, mutex == 1\n",
    "        if closing_price[\"Close\"] > upper and closing_price[\"Close\"] < upper_upper:\n",
    "            # print(\"Sell\", (1/closing_price[\"Close\"]) * bank, \"€\", closing_price[\"Dates\"], closing_price[\"Close\"])\n",
    "            return 0, bank * (1/closing_price[\"Close\"])\n",
    "        else:\n",
    "            return 1, bank\n",
    "        "
   ]
  }
 ],
 "metadata": {
  "kernelspec": {
   "display_name": "consulting",
   "language": "python",
   "name": "python3"
  },
  "language_info": {
   "codemirror_mode": {
    "name": "ipython",
    "version": 3
   },
   "file_extension": ".py",
   "mimetype": "text/x-python",
   "name": "python",
   "nbconvert_exporter": "python",
   "pygments_lexer": "ipython3",
   "version": "3.12.3"
  }
 },
 "nbformat": 4,
 "nbformat_minor": 2
}
