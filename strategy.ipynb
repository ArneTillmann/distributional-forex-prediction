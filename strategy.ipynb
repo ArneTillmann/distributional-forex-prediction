{
 "cells": [
  {
   "cell_type": "code",
   "execution_count": null,
   "metadata": {},
   "outputs": [],
   "source": [
    "def revert_to_the_mean(first data point to trade on, model):\n",
    "    train model with the last 100 observations\n",
    "    while next_data_point in the upper 70% quantile:\n",
    "        train model with the last 100 observation (leaving out the first datapoint and adding the latest)\n",
    "    buy stock for 5000000\n",
    "    take new data point and train a model with the latest 100 observations\n",
    "    while next_data_point in the lower 70% quantile and three days haven't passed or the block has ended:\n",
    "        hold\n",
    "    sell sell everything\n",
    "\n",
    "\n",
    "# In die Strategie das unterteste 10% exkludieren weil das vielleicht sehr starke negative Updates sinds (Trend updates)\n",
    "\n",
    "\n",
    "def revert_to_the_mean_buy(model, next_data_point):\n",
    "    if next_data_point in the upper 70% quantile:\n",
    "        return 1, 5000000*next_data_point\n",
    "    else:\n",
    "        return 0, None\n",
    "                \n",
    "def revert_to_the_mean_sell(model, investment, next_data_point):\n",
    "    if next_data_point in the lower 70% quantile:\n",
    "        return 0, investment*next_data_point\n",
    "    else:\n",
    "        return 1, None\n",
    "\n",
    "def trade(strategy, model):\n",
    "    for block in blocks:\n",
    "        mutex = 0\n",
    "        for i+100 in data_point in block:\n",
    "            train model with the last 100 observations\n",
    "            if mutex = 0\n",
    "                mutex, investment = buy(model, next_data_point)\n",
    "            if mutex = 1\n",
    "                mutex, profit = sell(investment, model)\n",
    "             \n",
    "\n",
    "        "
   ]
  }
 ],
 "metadata": {
  "language_info": {
   "name": "python"
  }
 },
 "nbformat": 4,
 "nbformat_minor": 2
}
