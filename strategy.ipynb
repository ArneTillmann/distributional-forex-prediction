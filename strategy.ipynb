{
 "cells": [
  {
   "cell_type": "code",
   "execution_count": null,
   "metadata": {},
   "outputs": [],
   "source": [
    "def revert_to_the_mean(first data point to trade on, model):\n",
    "    train model with the last 100 observations\n",
    "    while next_data_point in the upper 70% quantile:\n",
    "        train model with the last 100 observation (leaving out the first datapoint and adding the latest)\n",
    "    buy stock for 5000000\n",
    "    take new data point and train a model with the latest 100 observations\n",
    "    while next_data_point in the lower 70% quantile and three days haven't passed or the block has ended:\n",
    "        hold\n",
    "    sell sell everything\n",
    "\n",
    "\n",
    "def trade(strategy, model):\n",
    "    for block in blocks:\n",
    "        for i+100 in data_point in block:\n",
    "            strategy(i, model)\n",
    "             \n",
    "\n",
    "        "
   ]
  }
 ],
 "metadata": {
  "language_info": {
   "name": "python"
  }
 },
 "nbformat": 4,
 "nbformat_minor": 2
}
