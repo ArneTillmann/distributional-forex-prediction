{
 "cells": [
  {
   "cell_type": "code",
   "execution_count": 2,
   "metadata": {},
   "outputs": [],
   "source": [
    "import numpy as np\n",
    "import pandas as pd"
   ]
  },
  {
   "cell_type": "code",
   "execution_count": 76,
   "metadata": {},
   "outputs": [],
   "source": [
    "file_path = 'data\\EURUSD.txt'\n",
    "\n",
    "data = pd.read_csv(file_path, dtype=str)"
   ]
  },
  {
   "cell_type": "code",
   "execution_count": 77,
   "metadata": {},
   "outputs": [
    {
     "data": {
      "text/html": [
       "<div>\n",
       "<style scoped>\n",
       "    .dataframe tbody tr th:only-of-type {\n",
       "        vertical-align: middle;\n",
       "    }\n",
       "\n",
       "    .dataframe tbody tr th {\n",
       "        vertical-align: top;\n",
       "    }\n",
       "\n",
       "    .dataframe thead th {\n",
       "        text-align: right;\n",
       "    }\n",
       "</style>\n",
       "<table border=\"1\" class=\"dataframe\">\n",
       "  <thead>\n",
       "    <tr style=\"text-align: right;\">\n",
       "      <th></th>\n",
       "      <th>item_id</th>\n",
       "      <th>Date</th>\n",
       "      <th>Time</th>\n",
       "      <th>Open</th>\n",
       "      <th>Close</th>\n",
       "      <th>High</th>\n",
       "      <th>Low</th>\n",
       "      <th>Volume</th>\n",
       "    </tr>\n",
       "  </thead>\n",
       "  <tbody>\n",
       "    <tr>\n",
       "      <th>0</th>\n",
       "      <td>EURUSD</td>\n",
       "      <td>20230417</td>\n",
       "      <td>061600</td>\n",
       "      <td>1.0984</td>\n",
       "      <td>1.0984</td>\n",
       "      <td>1.0984</td>\n",
       "      <td>1.0984</td>\n",
       "      <td>4</td>\n",
       "    </tr>\n",
       "    <tr>\n",
       "      <th>1</th>\n",
       "      <td>EURUSD</td>\n",
       "      <td>20230417</td>\n",
       "      <td>061700</td>\n",
       "      <td>1.0984</td>\n",
       "      <td>1.0984</td>\n",
       "      <td>1.0981</td>\n",
       "      <td>1.0981</td>\n",
       "      <td>4</td>\n",
       "    </tr>\n",
       "    <tr>\n",
       "      <th>2</th>\n",
       "      <td>EURUSD</td>\n",
       "      <td>20230417</td>\n",
       "      <td>061800</td>\n",
       "      <td>1.0981</td>\n",
       "      <td>1.0982</td>\n",
       "      <td>1.0981</td>\n",
       "      <td>1.0982</td>\n",
       "      <td>4</td>\n",
       "    </tr>\n",
       "    <tr>\n",
       "      <th>3</th>\n",
       "      <td>EURUSD</td>\n",
       "      <td>20230417</td>\n",
       "      <td>061900</td>\n",
       "      <td>1.0982</td>\n",
       "      <td>1.0982</td>\n",
       "      <td>1.0982</td>\n",
       "      <td>1.0982</td>\n",
       "      <td>4</td>\n",
       "    </tr>\n",
       "    <tr>\n",
       "      <th>4</th>\n",
       "      <td>EURUSD</td>\n",
       "      <td>20230417</td>\n",
       "      <td>062000</td>\n",
       "      <td>1.0981</td>\n",
       "      <td>1.0981</td>\n",
       "      <td>1.0980</td>\n",
       "      <td>1.0980</td>\n",
       "      <td>4</td>\n",
       "    </tr>\n",
       "  </tbody>\n",
       "</table>\n",
       "</div>"
      ],
      "text/plain": [
       "  item_id      Date    Time    Open   Close    High     Low Volume\n",
       "0  EURUSD  20230417  061600  1.0984  1.0984  1.0984  1.0984      4\n",
       "1  EURUSD  20230417  061700  1.0984  1.0984  1.0981  1.0981      4\n",
       "2  EURUSD  20230417  061800  1.0981  1.0982  1.0981  1.0982      4\n",
       "3  EURUSD  20230417  061900  1.0982  1.0982  1.0982  1.0982      4\n",
       "4  EURUSD  20230417  062000  1.0981  1.0981  1.0980  1.0980      4"
      ]
     },
     "execution_count": 77,
     "metadata": {},
     "output_type": "execute_result"
    }
   ],
   "source": [
    "data.head()\n"
   ]
  },
  {
   "cell_type": "code",
   "execution_count": 78,
   "metadata": {},
   "outputs": [],
   "source": [
    "data.drop(columns =['Open', 'High', 'Low', 'Volume'], inplace=True)"
   ]
  },
  {
   "cell_type": "code",
   "execution_count": 79,
   "metadata": {},
   "outputs": [
    {
     "data": {
      "text/html": [
       "<div>\n",
       "<style scoped>\n",
       "    .dataframe tbody tr th:only-of-type {\n",
       "        vertical-align: middle;\n",
       "    }\n",
       "\n",
       "    .dataframe tbody tr th {\n",
       "        vertical-align: top;\n",
       "    }\n",
       "\n",
       "    .dataframe thead th {\n",
       "        text-align: right;\n",
       "    }\n",
       "</style>\n",
       "<table border=\"1\" class=\"dataframe\">\n",
       "  <thead>\n",
       "    <tr style=\"text-align: right;\">\n",
       "      <th></th>\n",
       "      <th>item_id</th>\n",
       "      <th>Date</th>\n",
       "      <th>Time</th>\n",
       "      <th>Close</th>\n",
       "    </tr>\n",
       "  </thead>\n",
       "  <tbody>\n",
       "    <tr>\n",
       "      <th>0</th>\n",
       "      <td>EURUSD</td>\n",
       "      <td>20230417</td>\n",
       "      <td>061600</td>\n",
       "      <td>1.0984</td>\n",
       "    </tr>\n",
       "    <tr>\n",
       "      <th>1</th>\n",
       "      <td>EURUSD</td>\n",
       "      <td>20230417</td>\n",
       "      <td>061700</td>\n",
       "      <td>1.0984</td>\n",
       "    </tr>\n",
       "    <tr>\n",
       "      <th>2</th>\n",
       "      <td>EURUSD</td>\n",
       "      <td>20230417</td>\n",
       "      <td>061800</td>\n",
       "      <td>1.0982</td>\n",
       "    </tr>\n",
       "    <tr>\n",
       "      <th>3</th>\n",
       "      <td>EURUSD</td>\n",
       "      <td>20230417</td>\n",
       "      <td>061900</td>\n",
       "      <td>1.0982</td>\n",
       "    </tr>\n",
       "    <tr>\n",
       "      <th>4</th>\n",
       "      <td>EURUSD</td>\n",
       "      <td>20230417</td>\n",
       "      <td>062000</td>\n",
       "      <td>1.0981</td>\n",
       "    </tr>\n",
       "  </tbody>\n",
       "</table>\n",
       "</div>"
      ],
      "text/plain": [
       "  item_id      Date    Time   Close\n",
       "0  EURUSD  20230417  061600  1.0984\n",
       "1  EURUSD  20230417  061700  1.0984\n",
       "2  EURUSD  20230417  061800  1.0982\n",
       "3  EURUSD  20230417  061900  1.0982\n",
       "4  EURUSD  20230417  062000  1.0981"
      ]
     },
     "execution_count": 79,
     "metadata": {},
     "output_type": "execute_result"
    }
   ],
   "source": [
    "data.head()"
   ]
  },
  {
   "cell_type": "code",
   "execution_count": 84,
   "metadata": {},
   "outputs": [
    {
     "data": {
      "text/html": [
       "<div>\n",
       "<style scoped>\n",
       "    .dataframe tbody tr th:only-of-type {\n",
       "        vertical-align: middle;\n",
       "    }\n",
       "\n",
       "    .dataframe tbody tr th {\n",
       "        vertical-align: top;\n",
       "    }\n",
       "\n",
       "    .dataframe thead th {\n",
       "        text-align: right;\n",
       "    }\n",
       "</style>\n",
       "<table border=\"1\" class=\"dataframe\">\n",
       "  <thead>\n",
       "    <tr style=\"text-align: right;\">\n",
       "      <th></th>\n",
       "      <th>item_id</th>\n",
       "      <th>Date</th>\n",
       "      <th>Time</th>\n",
       "      <th>Close</th>\n",
       "    </tr>\n",
       "  </thead>\n",
       "  <tbody>\n",
       "    <tr>\n",
       "      <th>14</th>\n",
       "      <td>EURUSD</td>\n",
       "      <td>20230417</td>\n",
       "      <td>063000</td>\n",
       "      <td>1.0975</td>\n",
       "    </tr>\n",
       "    <tr>\n",
       "      <th>29</th>\n",
       "      <td>EURUSD</td>\n",
       "      <td>20230417</td>\n",
       "      <td>064500</td>\n",
       "      <td>1.0971</td>\n",
       "    </tr>\n",
       "    <tr>\n",
       "      <th>44</th>\n",
       "      <td>EURUSD</td>\n",
       "      <td>20230417</td>\n",
       "      <td>070000</td>\n",
       "      <td>1.0965</td>\n",
       "    </tr>\n",
       "    <tr>\n",
       "      <th>59</th>\n",
       "      <td>EURUSD</td>\n",
       "      <td>20230417</td>\n",
       "      <td>071500</td>\n",
       "      <td>1.0971</td>\n",
       "    </tr>\n",
       "    <tr>\n",
       "      <th>74</th>\n",
       "      <td>EURUSD</td>\n",
       "      <td>20230417</td>\n",
       "      <td>073000</td>\n",
       "      <td>1.0974</td>\n",
       "    </tr>\n",
       "  </tbody>\n",
       "</table>\n",
       "</div>"
      ],
      "text/plain": [
       "   item_id      Date    Time   Close\n",
       "14  EURUSD  20230417  063000  1.0975\n",
       "29  EURUSD  20230417  064500  1.0971\n",
       "44  EURUSD  20230417  070000  1.0965\n",
       "59  EURUSD  20230417  071500  1.0971\n",
       "74  EURUSD  20230417  073000  1.0974"
      ]
     },
     "execution_count": 84,
     "metadata": {},
     "output_type": "execute_result"
    }
   ],
   "source": [
    "data[\"time2\"] = data[\"Time\"].str[2:-2].astype(int)\n",
    "data = data[data['time2'] % 15 == 0]\n",
    "data.drop(columns =['time2'], inplace=True)\n",
    "data.head()\n"
   ]
  },
  {
   "cell_type": "code",
   "execution_count": 85,
   "metadata": {},
   "outputs": [],
   "source": [
    "data[\"Date\"] = pd.to_datetime(data[\"Date\"], format='%Y%m%d')\n",
    "data[\"Time\"] = pd.to_datetime(data[\"Time\"], format='%H%M%S').dt.time\n"
   ]
  },
  {
   "cell_type": "code",
   "execution_count": 88,
   "metadata": {},
   "outputs": [],
   "source": [
    "data['Datetime'] = pd.to_datetime(data['Date'].astype(str) + ' ' + data['Time'].astype(str))\n"
   ]
  },
  {
   "cell_type": "code",
   "execution_count": 90,
   "metadata": {},
   "outputs": [],
   "source": [
    "data['Datetime'] = pd.to_datetime(data['Datetime'], format='%Y%m%d %H%M%S')"
   ]
  },
  {
   "cell_type": "code",
   "execution_count": 92,
   "metadata": {},
   "outputs": [
    {
     "data": {
      "text/plain": [
       "dtype('<M8[ns]')"
      ]
     },
     "execution_count": 92,
     "metadata": {},
     "output_type": "execute_result"
    }
   ],
   "source": [
    "data['Datetime'].dtype"
   ]
  },
  {
   "cell_type": "code",
   "execution_count": 93,
   "metadata": {},
   "outputs": [],
   "source": [
    "data.drop(columns =[\"Time\",\"Date\"], inplace=True)"
   ]
  },
  {
   "cell_type": "code",
   "execution_count": 95,
   "metadata": {},
   "outputs": [],
   "source": [
    "data.head()\n",
    "file_path_csv = 'data/EURUSD_15.csv'\n",
    "data.to_csv(file_path_csv, index=False) "
   ]
  }
 ],
 "metadata": {
  "kernelspec": {
   "display_name": "Python 3",
   "language": "python",
   "name": "python3"
  },
  "language_info": {
   "codemirror_mode": {
    "name": "ipython",
    "version": 3
   },
   "file_extension": ".py",
   "mimetype": "text/x-python",
   "name": "python",
   "nbconvert_exporter": "python",
   "pygments_lexer": "ipython3",
   "version": "3.11.9"
  }
 },
 "nbformat": 4,
 "nbformat_minor": 2
}
