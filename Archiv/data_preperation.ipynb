{
 "cells": [
  {
   "cell_type": "markdown",
   "id": "1e400e3d",
   "metadata": {
    "execution": {
     "iopub.execute_input": "2024-05-16T09:43:03.773813Z",
     "iopub.status.busy": "2024-05-16T09:43:03.773276Z",
     "iopub.status.idle": "2024-05-16T09:43:03.781133Z",
     "shell.execute_reply": "2024-05-16T09:43:03.779586Z",
     "shell.execute_reply.started": "2024-05-16T09:43:03.773781Z"
    },
    "papermill": {
     "duration": 0.004597,
     "end_time": "2024-05-16T11:42:30.869384",
     "exception": false,
     "start_time": "2024-05-16T11:42:30.864787",
     "status": "completed"
    },
    "tags": []
   },
   "source": [
    "# Meeting 03.05.2024 Christoph-Nils-Arne\n",
    "Varianz vorhersagen ist der Kern\n",
    "\n",
    "einfaches Regressionsmodell \n",
    "\n",
    "GARCH\n",
    "Nils LSTM\n",
    "\n",
    "Kaggle aufsetzen \n",
    "Copilot\n",
    "\n",
    "### Packages:\n",
    "- AEON \n",
    "- SK Time \n",
    "- DARts \n",
    "\n",
    "optimal stopping \n",
    "\n",
    "LIteratur:\n",
    "- https://rdcu.be/dGI38"
   ]
  },
  {
   "cell_type": "code",
   "execution_count": 1,
   "id": "9751f49b",
   "metadata": {},
   "outputs": [],
   "source": [
    "# pip install openpyxl"
   ]
  },
  {
   "cell_type": "code",
   "execution_count": 2,
   "id": "c483e92a",
   "metadata": {},
   "outputs": [],
   "source": [
    "# pip install arch"
   ]
  },
  {
   "cell_type": "code",
   "execution_count": 3,
   "id": "3866850c",
   "metadata": {},
   "outputs": [],
   "source": [
    "import matplotlib.pyplot as plt\n",
    "import pandas as pd\n",
    "import pandas as pd\n",
    "import numpy as np\n",
    "from matplotlib import pyplot\n",
    "from arch import arch_model\n",
    "from statsmodels.graphics.tsaplots import plot_acf"
   ]
  },
  {
   "cell_type": "markdown",
   "id": "fc867b55",
   "metadata": {
    "papermill": {
     "duration": 0.004308,
     "end_time": "2024-05-16T11:42:30.878497",
     "exception": false,
     "start_time": "2024-05-16T11:42:30.874189",
     "status": "completed"
    },
    "tags": []
   },
   "source": [
    "# Nils - Arne 16.05.24\n",
    "- extract USD - EURO pair from the dataset\n",
    "- LinearRegression (ARne)\n",
    "- GARCH(Nils)\n",
    "\n"
   ]
  },
  {
   "cell_type": "code",
   "execution_count": 4,
   "id": "487ee200",
   "metadata": {
    "execution": {
     "iopub.execute_input": "2024-05-16T11:42:30.891479Z",
     "iopub.status.busy": "2024-05-16T11:42:30.890393Z",
     "iopub.status.idle": "2024-05-16T11:42:34.136938Z",
     "shell.execute_reply": "2024-05-16T11:42:34.135726Z"
    },
    "papermill": {
     "duration": 3.256417,
     "end_time": "2024-05-16T11:42:34.140237",
     "exception": false,
     "start_time": "2024-05-16T11:42:30.883820",
     "status": "completed"
    },
    "tags": []
   },
   "outputs": [
    {
     "name": "stderr",
     "output_type": "stream",
     "text": [
      "<>:1: SyntaxWarning: invalid escape sequence '\\B'\n",
      "<>:1: SyntaxWarning: invalid escape sequence '\\B'\n",
      "C:\\Users\\arnet\\AppData\\Local\\Temp\\ipykernel_13340\\4088575790.py:1: SyntaxWarning: invalid escape sequence '\\B'\n",
      "  file_path = 'data\\BB_Rates_15min_from_10-2023.xlsx'\n"
     ]
    }
   ],
   "source": [
    "\n",
    "file_path = 'data\\BB_Rates_15min_from_10-2023.xlsx'\n",
    "data = pd.read_excel(file_path)\n",
    "\n"
   ]
  },
  {
   "cell_type": "code",
   "execution_count": 5,
   "id": "c4e6a122",
   "metadata": {
    "execution": {
     "iopub.execute_input": "2024-05-16T11:42:34.152325Z",
     "iopub.status.busy": "2024-05-16T11:42:34.151512Z",
     "iopub.status.idle": "2024-05-16T11:42:34.175479Z",
     "shell.execute_reply": "2024-05-16T11:42:34.173918Z"
    },
    "papermill": {
     "duration": 0.033338,
     "end_time": "2024-05-16T11:42:34.178478",
     "exception": false,
     "start_time": "2024-05-16T11:42:34.145140",
     "status": "completed"
    },
    "tags": []
   },
   "outputs": [
    {
     "name": "stdout",
     "output_type": "stream",
     "text": [
      "                 Dates   Close\n",
      "3  2023-10-03 23:00:00  1.0469\n",
      "4  2023-10-03 23:15:00  1.0466\n",
      "5  2023-10-03 23:30:00  1.0465\n",
      "6  2023-10-03 23:45:00  1.0465\n",
      "7  2023-10-04 00:00:00  1.0468\n"
     ]
    }
   ],
   "source": [
    "start_index = 3\n",
    "EURUSD = data.iloc[start_index:, :2]\n",
    "\n",
    "# Rename the columns\n",
    "EURUSD.columns = ['Dates', 'Close']\n",
    "\n",
    "# Display the first few rows of the new dataset to verify\n",
    "#print(EURUSD.head())"
   ]
  },
  {
   "cell_type": "code",
   "execution_count": 6,
   "id": "715de2f1",
   "metadata": {
    "execution": {
     "iopub.execute_input": "2024-05-16T11:42:34.190386Z",
     "iopub.status.busy": "2024-05-16T11:42:34.189949Z",
     "iopub.status.idle": "2024-05-16T11:42:34.244842Z",
     "shell.execute_reply": "2024-05-16T11:42:34.242871Z"
    },
    "papermill": {
     "duration": 0.06467,
     "end_time": "2024-05-16T11:42:34.248187",
     "exception": false,
     "start_time": "2024-05-16T11:42:34.183517",
     "status": "completed"
    },
    "tags": []
   },
   "outputs": [
    {
     "name": "stdout",
     "output_type": "stream",
     "text": [
      "                Dates   Close  Block  TimeFrame\n",
      "4 2023-10-03 23:15:00  1.0466      2          1\n",
      "5 2023-10-03 23:30:00  1.0465      2          2\n",
      "6 2023-10-03 23:45:00  1.0465      2          3\n",
      "7 2023-10-04 00:00:00  1.0468      2          4\n",
      "8 2023-10-04 00:15:00  1.0467      2          5\n"
     ]
    },
    {
     "name": "stderr",
     "output_type": "stream",
     "text": [
      "C:\\Users\\arnet\\AppData\\Local\\Temp\\ipykernel_13340\\3678701610.py:22: SettingWithCopyWarning: \n",
      "A value is trying to be set on a copy of a slice from a DataFrame.\n",
      "Try using .loc[row_indexer,col_indexer] = value instead\n",
      "\n",
      "See the caveats in the documentation: https://pandas.pydata.org/pandas-docs/stable/user_guide/indexing.html#returning-a-view-versus-a-copy\n",
      "  EURUSD_filtered['TimeFrame'] = EURUSD_filtered.groupby('Block').cumcount() + 1\n"
     ]
    }
   ],
   "source": [
    "# Convert the 'Dates' column to datetime format\n",
    "EURUSD['Dates'] = pd.to_datetime(EURUSD['Dates'])\n",
    "\n",
    "# Calculate the difference between consecutive dates\n",
    "EURUSD['TimeDiff'] = EURUSD['Dates'].diff()\n",
    "\n",
    "# Define the 15-minute time interval\n",
    "time_interval = pd.Timedelta(minutes=15)\n",
    "\n",
    "# Identify the sections with consecutive 15-minute intervals\n",
    "EURUSD['IsConsecutive'] = EURUSD['TimeDiff'] == time_interval\n",
    "\n",
    "# Add a column to identify the observation blocks\n",
    "EURUSD['Block'] = (EURUSD['IsConsecutive'] != EURUSD['IsConsecutive'].shift()).cumsum()\n",
    "\n",
    "# Filter out sections with fewer than 2 days of consecutive 15-minute observations\n",
    "min_consecutive_minutes = 2 * 24 * 60  # 2 days in minutes\n",
    "valid_blocks = EURUSD.groupby('Block').filter(lambda x: len(x) >= min_consecutive_minutes / 15).Block.unique()\n",
    "EURUSD_filtered = EURUSD[EURUSD['Block'].isin(valid_blocks)]\n",
    "\n",
    "# Add the observation timeframe column\n",
    "EURUSD_filtered['TimeFrame'] = EURUSD_filtered.groupby('Block').cumcount() + 1\n",
    "\n",
    "# Drop the 'TimeDiff' and 'IsConsecutive' columns as they are no longer needed\n",
    "EURUSD_filtered = EURUSD_filtered.drop(columns=['TimeDiff', 'IsConsecutive'])\n",
    "\n",
    "# Display the first few rows of the filtered dataset with the new 'Block' and 'TimeFrame' columns\n",
    "#print(EURUSD_filtered.head())"
   ]
  },
  {
   "cell_type": "code",
   "execution_count": 7,
   "id": "5b5a005d",
   "metadata": {
    "execution": {
     "iopub.execute_input": "2024-05-16T11:42:34.259962Z",
     "iopub.status.busy": "2024-05-16T11:42:34.259388Z",
     "iopub.status.idle": "2024-05-16T11:42:34.265784Z",
     "shell.execute_reply": "2024-05-16T11:42:34.264818Z"
    },
    "papermill": {
     "duration": 0.015563,
     "end_time": "2024-05-16T11:42:34.268641",
     "exception": false,
     "start_time": "2024-05-16T11:42:34.253078",
     "status": "completed"
    },
    "tags": []
   },
   "outputs": [],
   "source": [
    "# Create a mapping from original block numbers to sequential block numbers\n",
    "block_mapping = {old_block: new_block for new_block, old_block in enumerate(EURUSD_filtered['Block'].unique(), 1)}\n"
   ]
  },
  {
   "cell_type": "code",
   "execution_count": 8,
   "id": "e0efc449",
   "metadata": {
    "execution": {
     "iopub.execute_input": "2024-05-16T11:42:34.281673Z",
     "iopub.status.busy": "2024-05-16T11:42:34.280916Z",
     "iopub.status.idle": "2024-05-16T11:42:34.287600Z",
     "shell.execute_reply": "2024-05-16T11:42:34.286289Z"
    },
    "papermill": {
     "duration": 0.016582,
     "end_time": "2024-05-16T11:42:34.290429",
     "exception": false,
     "start_time": "2024-05-16T11:42:34.273847",
     "status": "completed"
    },
    "tags": []
   },
   "outputs": [],
   "source": [
    "# Apply the mapping to the Block column\n",
    "EURUSD_filtered['Block'] = EURUSD_filtered['Block'].map(block_mapping)\n"
   ]
  },
  {
   "cell_type": "code",
   "execution_count": 9,
   "id": "2a7bd685",
   "metadata": {
    "execution": {
     "iopub.execute_input": "2024-05-16T11:42:34.303660Z",
     "iopub.status.busy": "2024-05-16T11:42:34.303192Z",
     "iopub.status.idle": "2024-05-16T11:42:34.322917Z",
     "shell.execute_reply": "2024-05-16T11:42:34.321673Z"
    },
    "papermill": {
     "duration": 0.029586,
     "end_time": "2024-05-16T11:42:34.325456",
     "exception": false,
     "start_time": "2024-05-16T11:42:34.295870",
     "status": "completed"
    },
    "tags": []
   },
   "outputs": [],
   "source": [
    "EURUSD_filtered = EURUSD_filtered.reset_index(drop=True)\n",
    "EURUSD_filtered = EURUSD_filtered.drop(columns=['TimeFrame'])\n",
    "\n"
   ]
  },
  {
   "cell_type": "code",
   "execution_count": 11,
   "id": "7b057629",
   "metadata": {
    "papermill": {
     "duration": 0.005021,
     "end_time": "2024-05-16T11:42:34.336211",
     "exception": false,
     "start_time": "2024-05-16T11:42:34.331190",
     "status": "completed"
    },
    "tags": []
   },
   "outputs": [
    {
     "name": "stdout",
     "output_type": "stream",
     "text": [
      "                Dates   Close  Block\n",
      "0 2023-10-03 23:15:00  1.0466      1\n",
      "1 2023-10-03 23:30:00  1.0465      1\n",
      "2 2023-10-03 23:45:00  1.0465      1\n",
      "3 2023-10-04 00:00:00  1.0468      1\n",
      "4 2023-10-04 00:15:00  1.0467      1\n",
      "                    Dates   Close  Block\n",
      "13428 2024-04-17 09:30:00  1.0632     29\n",
      "13429 2024-04-17 09:45:00  1.0625     29\n",
      "13430 2024-04-17 10:00:00   1.063     29\n",
      "13431 2024-04-17 10:15:00  1.0642     29\n",
      "13432 2024-04-17 10:30:00  1.0647     29\n"
     ]
    }
   ],
   "source": [
    "#print(EURUSD_filtered.head())\n",
    "#print(EURUSD_filtered.tail())"
   ]
  },
  {
   "cell_type": "code",
   "execution_count": 12,
   "id": "2474b565",
   "metadata": {},
   "outputs": [
    {
     "name": "stdout",
     "output_type": "stream",
     "text": [
      "preperation complete\n"
     ]
    }
   ],
   "source": [
    "print(\"preperation complete!\")"
   ]
  },
  {
   "cell_type": "code",
   "execution_count": null,
   "id": "d64217da",
   "metadata": {},
   "outputs": [],
   "source": []
  }
 ],
 "metadata": {
  "kaggle": {
   "accelerator": "none",
   "dataSources": [
    {
     "datasetId": 5019688,
     "sourceId": 8429393,
     "sourceType": "datasetVersion"
    }
   ],
   "dockerImageVersionId": 30698,
   "isGpuEnabled": false,
   "isInternetEnabled": true,
   "language": "python",
   "sourceType": "notebook"
  },
  "kernelspec": {
   "display_name": "Python 3",
   "language": "python",
   "name": "python3"
  },
  "language_info": {
   "codemirror_mode": {
    "name": "ipython",
    "version": 3
   },
   "file_extension": ".py",
   "mimetype": "text/x-python",
   "name": "python",
   "nbconvert_exporter": "python",
   "pygments_lexer": "ipython3",
   "version": "3.12.3"
  },
  "papermill": {
   "default_parameters": {},
   "duration": 9.493247,
   "end_time": "2024-05-16T11:42:34.966068",
   "environment_variables": {},
   "exception": null,
   "input_path": "__notebook__.ipynb",
   "output_path": "__notebook__.ipynb",
   "parameters": {},
   "start_time": "2024-05-16T11:42:25.472821",
   "version": "2.5.0"
  }
 },
 "nbformat": 4,
 "nbformat_minor": 5
}
